{
  "cells": [
    {
      "cell_type": "code",
      "execution_count": null,
      "metadata": {
        "colab": {
          "base_uri": "https://localhost:8080/"
        },
        "id": "ZZRj8MtwMY1g",
        "outputId": "99f26763-81ae-48ed-9507-b358dfdc064a"
      },
      "outputs": [],
      "source": [
        "!pip install -qU langchain-core openai supabase"
      ]
    },
    {
      "cell_type": "code",
      "execution_count": null,
      "metadata": {
        "id": "aiMziLQ_MkIY"
      },
      "outputs": [],
      "source": [
        "import os\n",
        "import openai\n",
        "from supabase import create_client, Client\n",
        "from google.colab import userdata\n",
        "from langchain_core.embeddings import DeterministicFakeEmbedding"
      ]
    },
    {
      "cell_type": "code",
      "execution_count": null,
      "metadata": {
        "id": "bkWrpmFmMnyf"
      },
      "outputs": [],
      "source": [
        "url = userdata.get(\"SUPABASE_URL\")\n",
        "key = userdata.get(\"SUPABASE_KEY\")\n",
        "api_key: str = userdata.get(\"OPENAI_API_KEY\")\n",
        "openai.api_key = api_key\n",
        "supabase: Client = create_client(url, key)"
      ]
    },
    {
      "cell_type": "code",
      "execution_count": null,
      "metadata": {
        "id": "B1ld2QftOinb"
      },
      "outputs": [],
      "source": [
        "embeddings = DeterministicFakeEmbedding(size=1536)"
      ]
    },
    {
      "cell_type": "code",
      "execution_count": null,
      "metadata": {
        "id": "2JEJa2tvPRKr"
      },
      "outputs": [],
      "source": [
        "def get_context(question: str) -> str:\n",
        "    # Embed the user's question\n",
        "    question_embedding = embeddings.embed_query(question)\n",
        "\n",
        "    results = []\n",
        "    if \"customer\" in question.lower():\n",
        "        query = supabase.rpc(\"find_related_customer\", {'question_vector': question_embedding}).execute()\n",
        "    elif \"product\" in question.lower():\n",
        "        query = supabase.rpc(\"find_related_products\", {'question_vector': question_embedding}).execute()\n",
        "    elif \"invoice\" in question.lower():\n",
        "        query = supabase.rpc(\"find_related_invoices\", {'question_vector': question_embedding}).execute()\n",
        "    else:\n",
        "        return \"No relevant context found for the given question.\"\n",
        "\n",
        "    for item in query.data:\n",
        "        results.append(item)\n",
        "    return results"
      ]
    },
    {
      "cell_type": "code",
      "execution_count": null,
      "metadata": {
        "id": "c27LojsGPVAe"
      },
      "outputs": [],
      "source": [
        "def get_response(question: str):\n",
        "    response = openai.chat.completions.create(\n",
        "        model=\"gpt-4o-mini\",\n",
        "        messages=[\n",
        "            {\"role\": \"system\", \"content\": \"You are a helpful assistant that answers questions \\\n",
        "                                          about the customers, products, and invoices provided to \\\n",
        "                                          you in the context. Use only the provided context to answer \\\n",
        "                                          questions. If the information isn't in the context, say so.\"},\n",
        "            {\"role\": \"user\", \"content\": f\"Question: {question}\\n\\nContext:\\n{get_context(question)}\"}\n",
        "        ],\n",
        "        max_tokens=150,\n",
        "        temperature=0.7\n",
        "    )\n",
        "    return response.choices[0].message.content.strip()"
      ]
    },
    {
      "cell_type": "code",
      "execution_count": null,
      "metadata": {
        "colab": {
          "base_uri": "https://localhost:8080/"
        },
        "id": "ahU345DEPYR2",
        "outputId": "d2463845-2b33-49b8-9658-1330a7088d7b"
      },
      "outputs": [],
      "source": [
        "question = \"Is there a customer named Justin Chau? If so, show me his information\"\n",
        "answer = get_response(question)\n",
        "print(\"Answer:\", answer)"
      ]
    },
    {
      "cell_type": "code",
      "execution_count": null,
      "metadata": {
        "id": "X8Ov4oWyPh9e"
      },
      "outputs": [],
      "source": []
    }
  ],
  "metadata": {
    "colab": {
      "provenance": []
    },
    "kernelspec": {
      "display_name": "Python 3",
      "name": "python3"
    },
    "language_info": {
      "name": "python"
    }
  },
  "nbformat": 4,
  "nbformat_minor": 0
}
