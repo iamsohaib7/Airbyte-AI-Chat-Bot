{
  "cells": [
    {
      "cell_type": "markdown",
      "metadata": {
        "id": "FRr-MVLSUOU1"
      },
      "source": [
        "**Step 1: Add secret key** </br>\n",
        "Add the STRIPE_TEST_KEY into the Colab Secrets. Use the Secret key from your Stripe > Developers > API Keys section.\n",
        "\n",
        "</br>\n",
        "\n",
        "**Step 2: Install required libraries**</br>\n",
        "Tap the run button to install the required python libraries"
      ]
    },
    {
      "cell_type": "code",
      "execution_count": null,
      "metadata": {
        "colab": {
          "base_uri": "https://localhost:8080/",
          "height": 407
        },
        "id": "LxoP8PFqT3Su",
        "outputId": "b017bde7-8c1d-4941-f747-9cfd346c53dc"
      },
      "outputs": [],
      "source": [
        "!pip install stripe==11.5.0"
      ]
    },
    {
      "cell_type": "markdown",
      "metadata": {
        "id": "UbG-UUTpUQr5"
      },
      "source": [
        "**Step 3: Run the script to create the test data** </br>\n",
        "Tap run to insert data."
      ]
    },
    {
      "cell_type": "code",
      "execution_count": null,
      "metadata": {
        "id": "01l1EpXgzRrF"
      },
      "outputs": [],
      "source": [
        "import stripe\n",
        "import random\n",
        "from google.colab import userdata"
      ]
    },
    {
      "cell_type": "code",
      "execution_count": null,
      "metadata": {
        "id": "riSMGa4Ozj4z"
      },
      "outputs": [],
      "source": [
        "SECRET_KEY = userdata.get(\"STRIPE_TEST_KEY\")"
      ]
    },
    {
      "cell_type": "code",
      "execution_count": null,
      "metadata": {
        "id": "q-vPYr1ezoJT"
      },
      "outputs": [],
      "source": [
        "stripe.api_key = SECRET_KEY"
      ]
    },
    {
      "cell_type": "code",
      "execution_count": null,
      "metadata": {
        "id": "Uf9jUrfp0xll"
      },
      "outputs": [],
      "source": [
        "# Sample data for generating random names\n",
        "first_names = (\"Alice\", \"Bob\", \"Charlie\", \"Diana\", \"Eve\", \"Frank\", \"Grace\", \"Hank\", \"Ivy\", \"Jack\", \"Quinton\", \"Akriti\", \"Justin\", \"Marcos\")\n",
        "last_names = (\"Smith\", \"Johnson\", \"Williams\", \"Jones\", \"Brown\", \"Davis\", \"Miller\", \"Wilson\", \"Moore\", \"Taylor\", \"Wall\", \"Chau\", \"Keswani\", \"Marx\")\n",
        "# Sample clothing product names\n",
        "clothing_names = (\n",
        "    \"T-Shirt\", \"Jeans\", \"Jacket\", \"Sweater\", \"Hoodie\",\n",
        "    \"Shorts\", \"Dress\", \"Blouse\", \"Skirt\", \"Pants\",\n",
        "    \"Shoes\", \"Sandals\", \"Sneakers\", \"Socks\", \"Hat\",\n",
        "    \"Scarf\", \"Gloves\", \"Coat\", \"Belt\", \"Tie\",\n",
        "    \"Tank Top\", \"Cardigan\", \"Overalls\", \"Tracksuit\", \"Polo Shirt\",\n",
        "    \"Cargo Pants\", \"Capris\", \"Dungarees\", \"Boots\", \"Cufflinks\",\n",
        "    \"Raincoat\", \"Peacoat\", \"Blazer\", \"Slippers\", \"Underwear\",\n",
        "    \"Leggings\", \"Windbreaker\", \"Tracksuit Bottoms\", \"Beanie\", \"Bikini\"\n",
        ")\n",
        "# List of random colors\n",
        "colors = (\n",
        "    \"Red\", \"Blue\", \"Green\", \"Yellow\", \"Black\", \"White\", \"Gray\",\n",
        "    \"Pink\", \"Purple\", \"Orange\", \"Brown\", \"Teal\", \"Navy\", \"Maroon\",\n",
        "    \"Gold\", \"Silver\", \"Beige\", \"Lavender\", \"Turquoise\", \"Coral\"\n",
        ")"
      ]
    },
    {
      "cell_type": "code",
      "execution_count": null,
      "metadata": {
        "id": "5LD7T1rIUMI7"
      },
      "outputs": [],
      "source": [
        "def create_customers(count=5):\n",
        "    customers = []\n",
        "    for _ in range(count):\n",
        "        first_name = random.choice(first_names)\n",
        "        last_name = random.choice(last_names)\n",
        "        name = f\"{first_name} {last_name}\"\n",
        "        email = f\"{first_name.lower()}.{last_name.lower()}@example.com\"\n",
        "\n",
        "        customer = stripe.Customer.create(\n",
        "            name=name,\n",
        "            email=email,\n",
        "            description=\"Sample customer for testing\"\n",
        "        )\n",
        "        customers.append(customer)\n",
        "        print(f\"Created Customer: {customer['name']} (ID: {customer['id']})\")\n",
        "    return customers\n",
        "\n",
        "\n",
        "def create_products(count=3):\n",
        "    products = []\n",
        "    for _ in range(count):\n",
        "        color = random.choice(colors)\n",
        "        product_name = random.choice(clothing_names)\n",
        "        full_name = f\"{color} {product_name}\"\n",
        "        product = stripe.Product.create(\n",
        "            name=full_name,\n",
        "            description=f\"This is a {color.lower()} {product_name.lower()}\"\n",
        "        )\n",
        "        products.append(product)\n",
        "        print(f\"Created Product: {product['name']} (ID: {product['id']})\")\n",
        "    return products\n",
        "\n",
        "\n",
        "def create_prices(products, min_price=500, max_price=5000):\n",
        "    prices = []\n",
        "    for product in products:\n",
        "        unit_amount = random.randint(min_price, max_price)  # Random amount in cents\n",
        "        price = stripe.Price.create(\n",
        "            unit_amount=unit_amount,\n",
        "            currency=\"usd\",\n",
        "            product=product['id']\n",
        "        )\n",
        "        prices.append(price)\n",
        "        print(f\"Created Price: ${unit_amount / 100:.2f} for Product {product['name']} (ID: {price['id']})\")\n",
        "    return prices\n",
        "\n",
        "\n",
        "def create_invoices(customers, prices, max_invoices_per_customer=5):\n",
        "    invoices = []\n",
        "    for customer in customers:\n",
        "        num_invoices = random.randint(1, max_invoices_per_customer)\n",
        "        for _ in range(num_invoices):\n",
        "            price = random.choice(prices)\n",
        "            # Create an invoice item first\n",
        "            invoice_item = stripe.InvoiceItem.create(\n",
        "                customer=customer['id'],\n",
        "                price=price['id'],\n",
        "                description=f\"Purchase of {price['product']}\"\n",
        "            )\n",
        "\n",
        "            # Create the invoice\n",
        "            invoice = stripe.Invoice.create(\n",
        "                customer=customer['id'],\n",
        "                auto_advance=False,  # Don't auto-finalize\n",
        "                collection_method='charge_automatically',\n",
        "                description=f\"Invoice for {customer['name']}\"\n",
        "            )\n",
        "\n",
        "            # Finalize and pay the invoice manually\n",
        "            invoice = stripe.Invoice.finalize_invoice(invoice['id'])\n",
        "            if invoice.status != 'paid':  # Only pay if not already paid\n",
        "                invoice = stripe.Invoice.pay(invoice['id'])\n",
        "\n",
        "            invoices.append(invoice)\n",
        "            print(f\"Created Invoice for Customer {customer['name']} (Amount: ${price['unit_amount'] / 100:.2f})\")\n",
        "    return invoices"
      ]
    },
    {
      "cell_type": "code",
      "execution_count": null,
      "metadata": {
        "id": "VbQ6npEN0Iji"
      },
      "outputs": [],
      "source": [
        "def main():\n",
        "    print(\"Creating sample customers with random names...\")\n",
        "    customers = create_customers(count=10)\n",
        "    print(\"Creating sample products with random clothing names and colors...\")\n",
        "    products = create_products(count=15)\n",
        "    print(\"Creating prices for products with random amounts...\")\n",
        "    prices = create_prices(products, min_price=500, max_price=5000)\n",
        "    print(\"Creating random invoices for each customer...\")\n",
        "    invoices = create_invoices(customers, prices, max_invoices_per_customer=5)\n",
        "    print(\"Sample data creation complete!\")\n",
        "    print(f\"Created {len(customers)} customers, {len(products)} products, and {len(invoices)} invoices.\")"
      ]
    },
    {
      "cell_type": "code",
      "execution_count": null,
      "metadata": {
        "colab": {
          "base_uri": "https://localhost:8080/"
        },
        "id": "-jkM71fK72Tg",
        "outputId": "a9fe086e-7ad2-4ba2-9d63-65c47e9e9a6f"
      },
      "outputs": [],
      "source": [
        "main()"
      ]
    },
    {
      "cell_type": "code",
      "execution_count": null,
      "metadata": {
        "id": "115cgpIi73L3"
      },
      "outputs": [],
      "source": []
    }
  ],
  "metadata": {
    "colab": {
      "provenance": []
    },
    "kernelspec": {
      "display_name": "Python 3",
      "name": "python3"
    },
    "language_info": {
      "name": "python"
    }
  },
  "nbformat": 4,
  "nbformat_minor": 0
}
